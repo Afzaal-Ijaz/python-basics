{
 "cells": [
  {
   "cell_type": "markdown",
   "id": "bd42c0f8-8bc8-411d-a155-24bc9d523287",
   "metadata": {},
   "source": [
    "### print Statment "
   ]
  },
  {
   "cell_type": "code",
   "execution_count": 6,
   "id": "dab4dcba-6b9e-40f1-ada7-eb2f3f965b47",
   "metadata": {},
   "outputs": [
    {
     "name": "stdout",
     "output_type": "stream",
     "text": [
      "Hello\n"
     ]
    }
   ],
   "source": [
    "print(\"Hello\")"
   ]
  },
  {
   "cell_type": "code",
   "execution_count": 14,
   "id": "343c4486-402e-47f8-80f7-05610f2b8d91",
   "metadata": {},
   "outputs": [
    {
     "name": "stdout",
     "output_type": "stream",
     "text": [
      "My name is Afzaal--Im doing NAVTTAC course\n"
     ]
    }
   ],
   "source": [
    "print(\"My name is Afzaal\",\"Im doing NAVTTAC course\"|\n",
    ",sep='--')"
   ]
  },
  {
   "cell_type": "code",
   "execution_count": 8,
   "id": "68cbc9bc-809b-4d3e-9ab9-26c168ff5eb4",
   "metadata": {},
   "outputs": [
    {
     "name": "stdout",
     "output_type": "stream",
     "text": [
      "My age is 20 years old\n"
     ]
    }
   ],
   "source": [
    "print(\"My age is 20 years old\")"
   ]
  },
  {
   "cell_type": "code",
   "execution_count": null,
   "id": "d621890c-a435-49c2-a2fe-0c9f17d44673",
   "metadata": {},
   "outputs": [],
   "source": []
  },
  {
   "cell_type": "code",
   "execution_count": 4,
   "id": "d8674756-2438-4df8-a879-d6b5dd8dd3e1",
   "metadata": {},
   "outputs": [
    {
     "name": "stdout",
     "output_type": "stream",
     "text": [
      "22 25 300\n"
     ]
    }
   ],
   "source": [
    "print(22,25,300)"
   ]
  },
  {
   "cell_type": "markdown",
   "id": "0bd44aee-94a6-4a07-8853-22b786a415c9",
   "metadata": {},
   "source": [
    "print(\"This is doctor's advice\")"
   ]
  },
  {
   "cell_type": "code",
   "execution_count": 11,
   "id": "efa0c786-d2f6-49ae-9fe7-2ecbe5eb9260",
   "metadata": {},
   "outputs": [
    {
     "name": "stdout",
     "output_type": "stream",
     "text": [
      "we are learing python--we are learing python\twe are learing python--\n",
      "\n",
      "\n",
      "\n",
      " we are learing python--"
     ]
    }
   ],
   "source": [
    "print(\"we are learing python\",end='--')\n",
    "print(\"we are learing python\",end='\\t')\n",
    "print(\"we are learing python\",end='--')\n",
    "print(\"\\n\\n\\n\\n we are learing python\",end='--')"
   ]
  },
  {
   "cell_type": "code",
   "execution_count": 14,
   "id": "b4c24193-14d4-4104-8e18-e2efc9d9f1c6",
   "metadata": {},
   "outputs": [
    {
     "name": "stdout",
     "output_type": "stream",
     "text": [
      "I am a good boy\n",
      "but i am very busy now.\n"
     ]
    }
   ],
   "source": [
    "print('''I am a good boy\n",
    "but I am very busy now.''')"
   ]
  },
  {
   "cell_type": "code",
   "execution_count": 15,
   "id": "4b52897c-92ee-4288-91d5-8df1f503b5d6",
   "metadata": {},
   "outputs": [
    {
     "name": "stdout",
     "output_type": "stream",
     "text": [
      "this is Doctor's advice\n"
     ]
    }
   ],
   "source": [
    "print('this is Doctor\\'s advice')"
   ]
  },
  {
   "cell_type": "markdown",
   "id": "d141c8b7-24fc-49f6-b8e2-9fc85e356b0b",
   "metadata": {},
   "source": [
    "### comments"
   ]
  },
  {
   "cell_type": "code",
   "execution_count": 17,
   "id": "55449759-180f-4ade-810e-3d39024a4dbe",
   "metadata": {},
   "outputs": [
    {
     "name": "stdout",
     "output_type": "stream",
     "text": [
      "this  is a comment\n"
     ]
    }
   ],
   "source": [
    "# yeh aik comment hai\n",
    "print ('this  is a comment')"
   ]
  },
  {
   "cell_type": "code",
   "execution_count": 21,
   "id": "aafb5fc6-c6e2-484f-9367-218a6acfba1b",
   "metadata": {},
   "outputs": [
    {
     "name": "stdout",
     "output_type": "stream",
     "text": [
      "This is multi-line comment\n"
     ]
    }
   ],
   "source": [
    "''' \n",
    "this is multi line comments.\n",
    "'''\n",
    "print(\"This is multi-line comment\")"
   ]
  },
  {
   "cell_type": "code",
   "execution_count": null,
   "id": "ef6a3f26-7008-4895-bbc0-f026a6954c0f",
   "metadata": {},
   "outputs": [],
   "source": []
  }
 ],
 "metadata": {
  "kernelspec": {
   "display_name": "Python 3 (ipykernel)",
   "language": "python",
   "name": "python3"
  },
  "language_info": {
   "codemirror_mode": {
    "name": "ipython",
    "version": 3
   },
   "file_extension": ".py",
   "mimetype": "text/x-python",
   "name": "python",
   "nbconvert_exporter": "python",
   "pygments_lexer": "ipython3",
   "version": "3.12.7"
  }
 },
 "nbformat": 4,
 "nbformat_minor": 5
}
